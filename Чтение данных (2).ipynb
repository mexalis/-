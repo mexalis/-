{
 "cells": [
  {
   "cell_type": "code",
   "execution_count": 95,
   "id": "b828482d",
   "metadata": {},
   "outputs": [],
   "source": [
    "import pandas as pd\n",
    "import matplotlib.pyplot as plt\n",
    "import numpy as np\n",
    "import os \n",
    "\n",
    "def read_binarry(file_path):\n",
    "    import struct\n",
    "    import math\n",
    "\n",
    "    power = []\n",
    "    age = []\n",
    "    coordinate_x = []\n",
    "    coordinate_y = []\n",
    "    angle_tetta = []\n",
    "    angle_phi = []\n",
    "    energy = []\n",
    "    time = []\n",
    "\n",
    "    with open(file_path, 'rb') as binary_file:\n",
    "        for i in range(100000):\n",
    "            binary_file.read(4 * 5)\n",
    "\n",
    "            tetta = struct.unpack('f', binary_file.read(4))[0]\n",
    "            angle_tetta.append(tetta)\n",
    "\n",
    "            phi = struct.unpack('f', binary_file.read(4))[0]\n",
    "            angle_phi.append(phi)\n",
    "\n",
    "            x0 = struct.unpack('f', binary_file.read(4))[0]\n",
    "            coordinate_x.append(x0)\n",
    "\n",
    "            y0 = struct.unpack('f', binary_file.read(4))[0]\n",
    "            coordinate_y.append(y0)\n",
    "\n",
    "            binary_file.read(4 * 5)\n",
    "\n",
    "            power_eas = struct.unpack('f', binary_file.read(4))[0]\n",
    "            power.append(math.log10(power_eas))\n",
    "\n",
    "            age_eas = struct.unpack('f', binary_file.read(4))[0]\n",
    "            age.append(age_eas)\n",
    "\n",
    "            binary_file.read(4 * 1565)\n",
    "            energy_release = struct.unpack('f' * 36, binary_file.read(4 * 36))\n",
    "            energy.append(energy_release)\n",
    "\n",
    "            binary_file.read(4)\n",
    "            t = struct.unpack('f' * 144, binary_file.read(4 * 144))\n",
    "            threshold_time = t[::4]\n",
    "            time.append(threshold_time)\n",
    "\n",
    "    # Собираем всё в DataFrame\n",
    "    df = pd.DataFrame({\n",
    "        'power': power,\n",
    "        'age': age,\n",
    "        'x': coordinate_x,\n",
    "        'y': coordinate_y,\n",
    "        'tetta': angle_tetta,\n",
    "        'phi': angle_phi,\n",
    "        'energy': energy,\n",
    "        'threshold_time': time,\n",
    "    })\n",
    "\n",
    "    return df\n"
   ]
  },
  {
   "cell_type": "code",
   "execution_count": 96,
   "id": "2916028b-0e20-4666-a10d-e93877f2d57b",
   "metadata": {},
   "outputs": [],
   "source": [
    "#Заморозка \n",
    "def set_seed(seed: int = 42) -> None:\n",
    "    np.random.seed(seed)\n",
    "    os.environ[\"PYTHONHASHSEED\"] = str(seed)\n",
    "\n",
    "set_seed(42)\n",
    "random_state = 42"
   ]
  },
  {
   "cell_type": "code",
   "execution_count": 97,
   "id": "8461e578-2ad9-414b-955c-85784ec2291e",
   "metadata": {},
   "outputs": [],
   "source": [
    "df = read_binarry(\"spe27p_100k_2022_correct.dat\")"
   ]
  },
  {
   "cell_type": "code",
   "execution_count": 98,
   "id": "da329c80-6d25-4d68-a474-90f164245187",
   "metadata": {},
   "outputs": [
    {
     "data": {
      "text/html": [
       "<div>\n",
       "<style scoped>\n",
       "    .dataframe tbody tr th:only-of-type {\n",
       "        vertical-align: middle;\n",
       "    }\n",
       "\n",
       "    .dataframe tbody tr th {\n",
       "        vertical-align: top;\n",
       "    }\n",
       "\n",
       "    .dataframe thead th {\n",
       "        text-align: right;\n",
       "    }\n",
       "</style>\n",
       "<table border=\"1\" class=\"dataframe\">\n",
       "  <thead>\n",
       "    <tr style=\"text-align: right;\">\n",
       "      <th></th>\n",
       "      <th>power</th>\n",
       "      <th>age</th>\n",
       "      <th>x</th>\n",
       "      <th>y</th>\n",
       "      <th>tetta</th>\n",
       "      <th>phi</th>\n",
       "      <th>energy</th>\n",
       "      <th>threshold_time</th>\n",
       "    </tr>\n",
       "  </thead>\n",
       "  <tbody>\n",
       "    <tr>\n",
       "      <th>0</th>\n",
       "      <td>4.166507</td>\n",
       "      <td>1.444716</td>\n",
       "      <td>13.572407</td>\n",
       "      <td>37.022316</td>\n",
       "      <td>37.367474</td>\n",
       "      <td>47.313324</td>\n",
       "      <td>(0.10191129148006439, 11.324358940124512, 13.0...</td>\n",
       "      <td>(-1.0, 91830.7265625, 91844.828125, 91830.7109...</td>\n",
       "    </tr>\n",
       "    <tr>\n",
       "      <th>1</th>\n",
       "      <td>4.933104</td>\n",
       "      <td>1.430547</td>\n",
       "      <td>40.330677</td>\n",
       "      <td>-61.980999</td>\n",
       "      <td>28.912228</td>\n",
       "      <td>236.400421</td>\n",
       "      <td>(10.563158988952637, 0.0, 7.604449272155762, 1...</td>\n",
       "      <td>(61243.13671875, -1.0, 61215.59375, 61216.8359...</td>\n",
       "    </tr>\n",
       "    <tr>\n",
       "      <th>2</th>\n",
       "      <td>4.133581</td>\n",
       "      <td>1.459046</td>\n",
       "      <td>-1.046695</td>\n",
       "      <td>-63.925430</td>\n",
       "      <td>37.267426</td>\n",
       "      <td>182.086060</td>\n",
       "      <td>(0.0, 0.34477588534355164, 0.35262614488601685...</td>\n",
       "      <td>(-1.0, -1.0, -1.0, -1.0, -1.0, -1.0, 78681.062...</td>\n",
       "    </tr>\n",
       "    <tr>\n",
       "      <th>3</th>\n",
       "      <td>5.190620</td>\n",
       "      <td>1.326983</td>\n",
       "      <td>40.293152</td>\n",
       "      <td>-21.836197</td>\n",
       "      <td>3.205503</td>\n",
       "      <td>201.268890</td>\n",
       "      <td>(34.960296630859375, 40.36423873901367, 6.7627...</td>\n",
       "      <td>(52147.2421875, 52211.25, 52142.87890625, 5213...</td>\n",
       "    </tr>\n",
       "    <tr>\n",
       "      <th>4</th>\n",
       "      <td>5.021614</td>\n",
       "      <td>1.336776</td>\n",
       "      <td>15.542248</td>\n",
       "      <td>10.037846</td>\n",
       "      <td>6.299241</td>\n",
       "      <td>108.097626</td>\n",
       "      <td>(79.6240234375, 29.508312225341797, 60.4609146...</td>\n",
       "      <td>(88044.953125, 88053.078125, 88046.9453125, 88...</td>\n",
       "    </tr>\n",
       "  </tbody>\n",
       "</table>\n",
       "</div>"
      ],
      "text/plain": [
       "      power       age          x          y      tetta         phi  \\\n",
       "0  4.166507  1.444716  13.572407  37.022316  37.367474   47.313324   \n",
       "1  4.933104  1.430547  40.330677 -61.980999  28.912228  236.400421   \n",
       "2  4.133581  1.459046  -1.046695 -63.925430  37.267426  182.086060   \n",
       "3  5.190620  1.326983  40.293152 -21.836197   3.205503  201.268890   \n",
       "4  5.021614  1.336776  15.542248  10.037846   6.299241  108.097626   \n",
       "\n",
       "                                              energy  \\\n",
       "0  (0.10191129148006439, 11.324358940124512, 13.0...   \n",
       "1  (10.563158988952637, 0.0, 7.604449272155762, 1...   \n",
       "2  (0.0, 0.34477588534355164, 0.35262614488601685...   \n",
       "3  (34.960296630859375, 40.36423873901367, 6.7627...   \n",
       "4  (79.6240234375, 29.508312225341797, 60.4609146...   \n",
       "\n",
       "                                      threshold_time  \n",
       "0  (-1.0, 91830.7265625, 91844.828125, 91830.7109...  \n",
       "1  (61243.13671875, -1.0, 61215.59375, 61216.8359...  \n",
       "2  (-1.0, -1.0, -1.0, -1.0, -1.0, -1.0, 78681.062...  \n",
       "3  (52147.2421875, 52211.25, 52142.87890625, 5213...  \n",
       "4  (88044.953125, 88053.078125, 88046.9453125, 88...  "
      ]
     },
     "execution_count": 98,
     "metadata": {},
     "output_type": "execute_result"
    }
   ],
   "source": [
    "df.head()"
   ]
  },
  {
   "cell_type": "code",
   "execution_count": 99,
   "id": "d9cd04d4-2c9e-4d70-8ec6-99b835700a47",
   "metadata": {},
   "outputs": [
    {
     "name": "stdout",
     "output_type": "stream",
     "text": [
      "b'\\x00\\x00\\x00\\x00\\x00\\x00zD\\x00\\x00\\x80?\\x00\\x00`A\\x00\\tzI'\n"
     ]
    }
   ],
   "source": [
    "with open(\"spe27p_100k_2022_correct.dat\", 'rb') as f:\n",
    "    print(f.read(4 * 5))"
   ]
  },
  {
   "cell_type": "code",
   "execution_count": 100,
   "id": "08f7d07c-666e-4e05-81ba-ab2900614aa0",
   "metadata": {},
   "outputs": [
    {
     "data": {
      "text/plain": [
       "36"
      ]
     },
     "execution_count": 100,
     "metadata": {},
     "output_type": "execute_result"
    }
   ],
   "source": [
    "len(df[\"energy\"][0])"
   ]
  },
  {
   "cell_type": "code",
   "execution_count": 101,
   "id": "cc2f0a05-c6a5-4824-b43b-cbfcd8a242ee",
   "metadata": {},
   "outputs": [],
   "source": [
    "new_columns = pd.DataFrame(\n",
    "    X_age['energy'].tolist(),\n",
    "    columns=[f'energy_{i}' for i in range(36)]\n",
    ")\n",
    "\n",
    "df = pd.concat([df, new_columns], axis=1)"
   ]
  },
  {
   "cell_type": "code",
   "execution_count": 102,
   "id": "f74d0913-038a-4527-ada9-85e5654b8c8b",
   "metadata": {},
   "outputs": [],
   "source": [
    "new_columns = pd.DataFrame(\n",
    "    X_age['threshold_time'].tolist(),\n",
    "    columns=[f'threshold_time_{i}' for i in range(36)]\n",
    ")\n",
    "\n",
    "df = pd.concat([df, new_columns], axis=1)"
   ]
  },
  {
   "cell_type": "code",
   "execution_count": 103,
   "id": "f5b12664-f451-46d4-8af4-68ec4c16812d",
   "metadata": {},
   "outputs": [],
   "source": [
    "df.drop(columns=[\"energy\", \"threshold_time\"], inplace=True)"
   ]
  },
  {
   "cell_type": "code",
   "execution_count": 104,
   "id": "4c63fe20-669d-4fc2-aeeb-e1cfd364a61b",
   "metadata": {},
   "outputs": [
    {
     "data": {
      "text/plain": [
       "(78,)"
      ]
     },
     "execution_count": 104,
     "metadata": {},
     "output_type": "execute_result"
    }
   ],
   "source": [
    "df.columns.shape"
   ]
  },
  {
   "cell_type": "code",
   "execution_count": 105,
   "id": "3e74cd54-5648-43cf-9626-b3043aee4d1d",
   "metadata": {},
   "outputs": [],
   "source": [
    "X = df.drop(columns=[\"power\", \"age\", \"x\", \"y\", \"tetta\", \"phi\"])"
   ]
  },
  {
   "cell_type": "code",
   "execution_count": 142,
   "id": "b5518ad1-4918-4962-91d5-b1bf59e82bdc",
   "metadata": {},
   "outputs": [],
   "source": [
    "y_age = df[\"age\"]"
   ]
  },
  {
   "cell_type": "code",
   "execution_count": 143,
   "id": "c7b70aef-99f4-433d-a978-7d0cde83fa4e",
   "metadata": {},
   "outputs": [
    {
     "data": {
      "text/plain": [
       "(100000,)"
      ]
     },
     "execution_count": 143,
     "metadata": {},
     "output_type": "execute_result"
    }
   ],
   "source": [
    "y_age.shape"
   ]
  },
  {
   "cell_type": "code",
   "execution_count": 144,
   "id": "b3f64e1f-327a-4e87-9fe2-1a0300233156",
   "metadata": {},
   "outputs": [
    {
     "data": {
      "text/plain": [
       "(100000, 72)"
      ]
     },
     "execution_count": 144,
     "metadata": {},
     "output_type": "execute_result"
    }
   ],
   "source": [
    "X.shape"
   ]
  },
  {
   "cell_type": "code",
   "execution_count": 145,
   "id": "78f359aa-b01a-4428-bb78-4542c449ee73",
   "metadata": {},
   "outputs": [
    {
     "data": {
      "text/plain": [
       "0"
      ]
     },
     "execution_count": 145,
     "metadata": {},
     "output_type": "execute_result"
    }
   ],
   "source": [
    "X.isna().sum().sum()"
   ]
  },
  {
   "cell_type": "code",
   "execution_count": 146,
   "id": "1cd489bc-16b3-49bf-b5e2-d9e173391f86",
   "metadata": {},
   "outputs": [
    {
     "data": {
      "text/plain": [
       "0"
      ]
     },
     "execution_count": 146,
     "metadata": {},
     "output_type": "execute_result"
    }
   ],
   "source": [
    "y_age.isna().sum()"
   ]
  },
  {
   "cell_type": "code",
   "execution_count": 147,
   "id": "410421ee-7ed4-4aac-b3d8-693f0fb0f749",
   "metadata": {},
   "outputs": [],
   "source": [
    "#Бустинг lightgbm"
   ]
  },
  {
   "cell_type": "code",
   "execution_count": 148,
   "id": "911568cc-3f10-4341-a1e2-915f7b93b68f",
   "metadata": {},
   "outputs": [
    {
     "data": {
      "text/plain": [
       "(100000,)"
      ]
     },
     "execution_count": 148,
     "metadata": {},
     "output_type": "execute_result"
    }
   ],
   "source": [
    "y_age.shape"
   ]
  },
  {
   "cell_type": "code",
   "execution_count": 149,
   "id": "1d9ec30f-28e1-4ba9-b770-68687bcf695a",
   "metadata": {},
   "outputs": [
    {
     "data": {
      "text/plain": [
       "<matplotlib.collections.PathCollection at 0x2963e554250>"
      ]
     },
     "execution_count": 149,
     "metadata": {},
     "output_type": "execute_result"
    },
    {
     "data": {
      "image/png": "[encoded data removed]",
      "text/plain": [
       "<Figure size 640x480 with 1 Axes>"
      ]
     },
     "metadata": {},
     "output_type": "display_data"
    }
   ],
   "source": [
    "plt.scatter(y=[1 for i in range(y_age.shape[0])], x=y_age, alpha=0.01)"
   ]
  },
  {
   "cell_type": "code",
   "execution_count": 150,
   "id": "853c79ee-dace-42a0-8d45-f8ad2d376435",
   "metadata": {},
   "outputs": [],
   "source": [
    "import lightgbm as lgb\n",
    "from sklearn.model_selection import train_test_split\n",
    "from sklearn.metrics import mean_squared_error, mean_absolute_error, r2_score\n",
    "from sklearn.datasets import fetch_california_housing"
   ]
  },
  {
   "cell_type": "code",
   "execution_count": 151,
   "id": "d5906f84-07dd-4ee6-bd94-416756a9de9b",
   "metadata": {},
   "outputs": [],
   "source": [
    "X_train, X_test, y_age_train, y_age_test = train_test_split(X, y_age, test_size=0.2, random_state=random_state)"
   ]
  },
  {
   "cell_type": "code",
   "execution_count": 152,
   "id": "6b1b4168-f580-44aa-917e-9c4207c29426",
   "metadata": {},
   "outputs": [],
   "source": [
    "train_data = lgb.Dataset(X_train, label=y_age_train)\n",
    "test_data = lgb.Dataset(X_test, label=y_age_test, reference=train_data)"
   ]
  },
  {
   "cell_type": "code",
   "execution_count": 153,
   "id": "1c2302f5-b255-4580-8109-c24aae41975b",
   "metadata": {},
   "outputs": [],
   "source": [
    "params = {\n",
    "    'objective': 'regression',       # Тип задачи - регрессия\n",
    "    'metric': 'rmse',                # Метрика качества (Root Mean Squared Error)\n",
    "    'boosting_type': 'gbdt',         # Алгоритм градиентного бустинга\n",
    "    'num_leaves': 7,                # Максимальное количество листьев в дереве\n",
    "    'learning_rate': 0.05,           # Скорость обучения\n",
    "    'feature_fraction': 0.9,         # Доля случайно выбираемых признаков на каждой итерации\n",
    "    'bagging_fraction': 0.8,         # Доля данных для бутстрепа\n",
    "    'bagging_freq': 5,               # Частота бэггинга\n",
    "    'verbose': 1,                    # Отключение выводов\n",
    "    'n_jobs': -1,                    # Использовать все ядра процессора\n",
    "    'random_state': 42               # Для воспроизводимости\n",
    "}"
   ]
  },
  {
   "cell_type": "code",
   "execution_count": 154,
   "id": "318f78d1-9338-49d5-a375-4718fdb11f63",
   "metadata": {},
   "outputs": [
    {
     "name": "stdout",
     "output_type": "stream",
     "text": [
      "[LightGBM] [Info] Auto-choosing col-wise multi-threading, the overhead of testing was 0.033858 seconds.\n",
      "You can set `force_col_wise=true` to remove the overhead.\n",
      "[LightGBM] [Info] Total Bins 18360\n",
      "[LightGBM] [Info] Number of data points in the train set: 80000, number of used features: 72\n",
      "[LightGBM] [Info] Start training from score 1.367758\n"
     ]
    }
   ],
   "source": [
    "model = lgb.train(\n",
    "    params,\n",
    "    train_data,\n",
    "    num_boost_round=100,            # Максимальное количество деревьев\n",
    "    valid_sets=[train_data, test_data],\n",
    "    valid_names=['train', 'valid']\n",
    ")"
   ]
  },
  {
   "cell_type": "code",
   "execution_count": 155,
   "id": "ecf18228-8303-4653-9491-4290510d63a1",
   "metadata": {},
   "outputs": [],
   "source": [
    "y_age_preds = model.predict(X_test, num_iteration=model.best_iteration)"
   ]
  },
  {
   "cell_type": "code",
   "execution_count": 156,
   "id": "d5abc373-1a2c-4e9b-ac39-4e49a82255fb",
   "metadata": {},
   "outputs": [
    {
     "name": "stdout",
     "output_type": "stream",
     "text": [
      "RMSE: 0.0554\n",
      "MAE: 0.0420\n",
      "R²: 0.2782\n"
     ]
    }
   ],
   "source": [
    "def evaluate_regression(y_true, y_pred):\n",
    "    rmse = np.sqrt(mean_squared_error(y_true, y_pred))\n",
    "    mae = mean_absolute_error(y_true, y_pred)\n",
    "    r2 = r2_score(y_true, y_pred)\n",
    "    \n",
    "    print(f\"RMSE: {rmse:.4f}\")\n",
    "    print(f\"MAE: {mae:.4f}\")\n",
    "    print(f\"R²: {r2:.4f}\")\n",
    "    return {'rmse': rmse, 'mae': mae, 'r2': r2}\n",
    "\n",
    "metrics = evaluate_regression(y_age_test, y_age_preds)"
   ]
  },
  {
   "cell_type": "code",
   "execution_count": 157,
   "id": "3de6bd45-dbec-46c7-935f-e967b3a3a434",
   "metadata": {},
   "outputs": [
    {
     "data": {
      "text/plain": [
       "power      4.645768\n",
       "age        1.367679\n",
       "x          2.245046\n",
       "y         -2.949996\n",
       "tetta     32.891332\n",
       "phi      179.331245\n",
       "dtype: float64"
      ]
     },
     "execution_count": 157,
     "metadata": {},
     "output_type": "execute_result"
    }
   ],
   "source": [
    "df[[\"power\", \"age\", \"x\", \"y\", \"tetta\", \"phi\"]].mean()"
   ]
  },
  {
   "cell_type": "code",
   "execution_count": 158,
   "id": "cbe5ff8f-7eeb-4442-bc58-210116e04526",
   "metadata": {},
   "outputs": [
    {
     "data": {
      "text/plain": [
       "count    100000.000000\n",
       "mean          1.367679\n",
       "std           0.064083\n",
       "min           0.811961\n",
       "25%           1.332817\n",
       "50%           1.375110\n",
       "75%           1.410739\n",
       "max           1.596757\n",
       "Name: age, dtype: float64"
      ]
     },
     "execution_count": 158,
     "metadata": {},
     "output_type": "execute_result"
    }
   ],
   "source": [
    "df[\"age\"].describe()"
   ]
  },
  {
   "cell_type": "code",
   "execution_count": 159,
   "id": "ea77d9a2-c5c3-46c6-b1cb-bb30b08bb789",
   "metadata": {},
   "outputs": [
    {
     "data": {
      "text/html": [
       "<div>\n",
       "<style scoped>\n",
       "    .dataframe tbody tr th:only-of-type {\n",
       "        vertical-align: middle;\n",
       "    }\n",
       "\n",
       "    .dataframe tbody tr th {\n",
       "        vertical-align: top;\n",
       "    }\n",
       "\n",
       "    .dataframe thead th {\n",
       "        text-align: right;\n",
       "    }\n",
       "</style>\n",
       "<table border=\"1\" class=\"dataframe\">\n",
       "  <thead>\n",
       "    <tr style=\"text-align: right;\">\n",
       "      <th></th>\n",
       "      <th>power</th>\n",
       "      <th>age</th>\n",
       "      <th>x</th>\n",
       "      <th>y</th>\n",
       "      <th>tetta</th>\n",
       "      <th>phi</th>\n",
       "      <th>energy_0</th>\n",
       "      <th>energy_1</th>\n",
       "      <th>energy_2</th>\n",
       "      <th>energy_3</th>\n",
       "      <th>...</th>\n",
       "      <th>threshold_time_26</th>\n",
       "      <th>threshold_time_27</th>\n",
       "      <th>threshold_time_28</th>\n",
       "      <th>threshold_time_29</th>\n",
       "      <th>threshold_time_30</th>\n",
       "      <th>threshold_time_31</th>\n",
       "      <th>threshold_time_32</th>\n",
       "      <th>threshold_time_33</th>\n",
       "      <th>threshold_time_34</th>\n",
       "      <th>threshold_time_35</th>\n",
       "    </tr>\n",
       "  </thead>\n",
       "  <tbody>\n",
       "    <tr>\n",
       "      <th>0</th>\n",
       "      <td>4.166507</td>\n",
       "      <td>1.444716</td>\n",
       "      <td>13.572407</td>\n",
       "      <td>37.022316</td>\n",
       "      <td>37.367474</td>\n",
       "      <td>47.313324</td>\n",
       "      <td>0.101911</td>\n",
       "      <td>11.324359</td>\n",
       "      <td>13.000817</td>\n",
       "      <td>23.782166</td>\n",
       "      <td>...</td>\n",
       "      <td>91763.781250</td>\n",
       "      <td>91759.656250</td>\n",
       "      <td>91774.828125</td>\n",
       "      <td>-1.000000</td>\n",
       "      <td>-1.000000</td>\n",
       "      <td>91810.023438</td>\n",
       "      <td>-1.000000</td>\n",
       "      <td>91878.492188</td>\n",
       "      <td>-1.000000</td>\n",
       "      <td>-1.000000</td>\n",
       "    </tr>\n",
       "    <tr>\n",
       "      <th>1</th>\n",
       "      <td>4.933104</td>\n",
       "      <td>1.430547</td>\n",
       "      <td>40.330677</td>\n",
       "      <td>-61.980999</td>\n",
       "      <td>28.912228</td>\n",
       "      <td>236.400421</td>\n",
       "      <td>10.563159</td>\n",
       "      <td>0.000000</td>\n",
       "      <td>7.604449</td>\n",
       "      <td>15.454450</td>\n",
       "      <td>...</td>\n",
       "      <td>61375.957031</td>\n",
       "      <td>-1.000000</td>\n",
       "      <td>61293.765625</td>\n",
       "      <td>61283.878906</td>\n",
       "      <td>61253.312500</td>\n",
       "      <td>61261.664062</td>\n",
       "      <td>61192.441406</td>\n",
       "      <td>61199.957031</td>\n",
       "      <td>61166.894531</td>\n",
       "      <td>61236.789062</td>\n",
       "    </tr>\n",
       "    <tr>\n",
       "      <th>2</th>\n",
       "      <td>4.133581</td>\n",
       "      <td>1.459046</td>\n",
       "      <td>-1.046695</td>\n",
       "      <td>-63.925430</td>\n",
       "      <td>37.267426</td>\n",
       "      <td>182.086060</td>\n",
       "      <td>0.000000</td>\n",
       "      <td>0.344776</td>\n",
       "      <td>0.352626</td>\n",
       "      <td>0.072466</td>\n",
       "      <td>...</td>\n",
       "      <td>-1.000000</td>\n",
       "      <td>-1.000000</td>\n",
       "      <td>-1.000000</td>\n",
       "      <td>-1.000000</td>\n",
       "      <td>-1.000000</td>\n",
       "      <td>-1.000000</td>\n",
       "      <td>-1.000000</td>\n",
       "      <td>-1.000000</td>\n",
       "      <td>78678.609375</td>\n",
       "      <td>78703.148438</td>\n",
       "    </tr>\n",
       "    <tr>\n",
       "      <th>3</th>\n",
       "      <td>5.190620</td>\n",
       "      <td>1.326983</td>\n",
       "      <td>40.293152</td>\n",
       "      <td>-21.836197</td>\n",
       "      <td>3.205503</td>\n",
       "      <td>201.268890</td>\n",
       "      <td>34.960297</td>\n",
       "      <td>40.364239</td>\n",
       "      <td>6.762777</td>\n",
       "      <td>71.258392</td>\n",
       "      <td>...</td>\n",
       "      <td>52187.480469</td>\n",
       "      <td>52178.167969</td>\n",
       "      <td>52173.789062</td>\n",
       "      <td>52171.929688</td>\n",
       "      <td>52172.902344</td>\n",
       "      <td>52173.003906</td>\n",
       "      <td>52137.703125</td>\n",
       "      <td>52150.824219</td>\n",
       "      <td>52160.316406</td>\n",
       "      <td>52141.460938</td>\n",
       "    </tr>\n",
       "    <tr>\n",
       "      <th>4</th>\n",
       "      <td>5.021614</td>\n",
       "      <td>1.336776</td>\n",
       "      <td>15.542248</td>\n",
       "      <td>10.037846</td>\n",
       "      <td>6.299241</td>\n",
       "      <td>108.097626</td>\n",
       "      <td>79.624023</td>\n",
       "      <td>29.508312</td>\n",
       "      <td>60.460915</td>\n",
       "      <td>105.564728</td>\n",
       "      <td>...</td>\n",
       "      <td>88065.773438</td>\n",
       "      <td>88074.195312</td>\n",
       "      <td>88085.453125</td>\n",
       "      <td>88084.914062</td>\n",
       "      <td>88094.664062</td>\n",
       "      <td>88097.500000</td>\n",
       "      <td>88057.523438</td>\n",
       "      <td>88064.109375</td>\n",
       "      <td>88071.828125</td>\n",
       "      <td>88070.187500</td>\n",
       "    </tr>\n",
       "  </tbody>\n",
       "</table>\n",
       "<p>5 rows × 78 columns</p>\n",
       "</div>"
      ],
      "text/plain": [
       "      power       age          x          y      tetta         phi   energy_0  \\\n",
       "0  4.166507  1.444716  13.572407  37.022316  37.367474   47.313324   0.101911   \n",
       "1  4.933104  1.430547  40.330677 -61.980999  28.912228  236.400421  10.563159   \n",
       "2  4.133581  1.459046  -1.046695 -63.925430  37.267426  182.086060   0.000000   \n",
       "3  5.190620  1.326983  40.293152 -21.836197   3.205503  201.268890  34.960297   \n",
       "4  5.021614  1.336776  15.542248  10.037846   6.299241  108.097626  79.624023   \n",
       "\n",
       "    energy_1   energy_2    energy_3  ...  threshold_time_26  \\\n",
       "0  11.324359  13.000817   23.782166  ...       91763.781250   \n",
       "1   0.000000   7.604449   15.454450  ...       61375.957031   \n",
       "2   0.344776   0.352626    0.072466  ...          -1.000000   \n",
       "3  40.364239   6.762777   71.258392  ...       52187.480469   \n",
       "4  29.508312  60.460915  105.564728  ...       88065.773438   \n",
       "\n",
       "   threshold_time_27  threshold_time_28  threshold_time_29  threshold_time_30  \\\n",
       "0       91759.656250       91774.828125          -1.000000          -1.000000   \n",
       "1          -1.000000       61293.765625       61283.878906       61253.312500   \n",
       "2          -1.000000          -1.000000          -1.000000          -1.000000   \n",
       "3       52178.167969       52173.789062       52171.929688       52172.902344   \n",
       "4       88074.195312       88085.453125       88084.914062       88094.664062   \n",
       "\n",
       "   threshold_time_31  threshold_time_32  threshold_time_33  threshold_time_34  \\\n",
       "0       91810.023438          -1.000000       91878.492188          -1.000000   \n",
       "1       61261.664062       61192.441406       61199.957031       61166.894531   \n",
       "2          -1.000000          -1.000000          -1.000000       78678.609375   \n",
       "3       52173.003906       52137.703125       52150.824219       52160.316406   \n",
       "4       88097.500000       88057.523438       88064.109375       88071.828125   \n",
       "\n",
       "   threshold_time_35  \n",
       "0          -1.000000  \n",
       "1       61236.789062  \n",
       "2       78703.148438  \n",
       "3       52141.460938  \n",
       "4       88070.187500  \n",
       "\n",
       "[5 rows x 78 columns]"
      ]
     },
     "execution_count": 159,
     "metadata": {},
     "output_type": "execute_result"
    }
   ],
   "source": [
    "df.head()"
   ]
  },
  {
   "cell_type": "code",
   "execution_count": 160,
   "id": "9b2b5310-85f8-4834-9d22-7c589daddeb3",
   "metadata": {},
   "outputs": [
    {
     "data": {
      "text/plain": [
       "count    100000.000000\n",
       "mean         32.891332\n",
       "std          11.876371\n",
       "min           0.190070\n",
       "25%          24.378988\n",
       "50%          34.795225\n",
       "75%          42.962389\n",
       "max          49.999722\n",
       "Name: tetta, dtype: float64"
      ]
     },
     "execution_count": 160,
     "metadata": {},
     "output_type": "execute_result"
    }
   ],
   "source": [
    "df[\"tetta\"].describe()"
   ]
  },
  {
   "cell_type": "code",
   "execution_count": 161,
   "id": "5785edac-e417-419e-9274-24e05ff2979d",
   "metadata": {},
   "outputs": [
    {
     "data": {
      "text/plain": [
       "count    100000.000000\n",
       "mean        179.331245\n",
       "std         103.730651\n",
       "min           0.000122\n",
       "25%          90.004028\n",
       "50%         179.304276\n",
       "75%         268.801086\n",
       "max         359.999023\n",
       "Name: phi, dtype: float64"
      ]
     },
     "execution_count": 161,
     "metadata": {},
     "output_type": "execute_result"
    }
   ],
   "source": [
    "df[\"phi\"].describe()"
   ]
  },
  {
   "cell_type": "code",
   "execution_count": null,
   "id": "c5f9c72a-7ff9-44fe-b120-c215d840ce42",
   "metadata": {},
   "outputs": [],
   "source": []
  }
 ],
 "metadata": {
  "kernelspec": {
   "display_name": "Python 3 (ipykernel)",
   "language": "python",
   "name": "python3"
  },
  "language_info": {
   "codemirror_mode": {
    "name": "ipython",
    "version": 3
   },
   "file_extension": ".py",
   "mimetype": "text/x-python",
   "name": "python",
   "nbconvert_exporter": "python",
   "pygments_lexer": "ipython3",
   "version": "3.10.11"
  }
 },
 "nbformat": 4,
 "nbformat_minor": 5
}
