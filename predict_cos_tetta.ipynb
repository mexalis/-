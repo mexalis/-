{
  "cells": [
    {
      "cell_type": "code",
      "execution_count": null,
      "id": "b828482d",
      "metadata": {
        "id": "b828482d"
      },
      "outputs": [],
      "source": [
        "import pandas as pd\n",
        "import matplotlib.pyplot as plt\n",
        "import numpy as np\n",
        "import os\n",
        "\n",
        "def read_binarry(file_path):\n",
        "    import struct\n",
        "    import math\n",
        "\n",
        "    power = []\n",
        "    age = []\n",
        "    coordinate_x = []\n",
        "    coordinate_y = []\n",
        "    angle_tetta = []\n",
        "    angle_phi = []\n",
        "    energy = []\n",
        "    time = []\n",
        "\n",
        "    with open(file_path, 'rb') as binary_file:\n",
        "        for i in range(100000):\n",
        "            binary_file.read(4 * 5)\n",
        "\n",
        "            tetta = struct.unpack('f', binary_file.read(4))[0]\n",
        "            angle_tetta.append(tetta)\n",
        "\n",
        "            phi = struct.unpack('f', binary_file.read(4))[0]\n",
        "            angle_phi.append(phi)\n",
        "\n",
        "            x0 = struct.unpack('f', binary_file.read(4))[0]\n",
        "            coordinate_x.append(x0)\n",
        "\n",
        "            y0 = struct.unpack('f', binary_file.read(4))[0]\n",
        "            coordinate_y.append(y0)\n",
        "\n",
        "            binary_file.read(4 * 5)\n",
        "\n",
        "            power_eas = struct.unpack('f', binary_file.read(4))[0]\n",
        "            power.append(math.log10(power_eas))\n",
        "\n",
        "            age_eas = struct.unpack('f', binary_file.read(4))[0]\n",
        "            age.append(age_eas)\n",
        "\n",
        "            binary_file.read(4 * 1565)\n",
        "            energy_release = struct.unpack('f' * 36, binary_file.read(4 * 36))\n",
        "            energy.append(energy_release)\n",
        "\n",
        "            binary_file.read(4)\n",
        "            t = struct.unpack('f' * 144, binary_file.read(4 * 144))\n",
        "            threshold_time = t[::4]\n",
        "            time.append(threshold_time)\n",
        "\n",
        "    # Собираем всё в DataFrame\n",
        "    df = pd.DataFrame({\n",
        "        'power': power,\n",
        "        'age': age,\n",
        "        'x': coordinate_x,\n",
        "        'y': coordinate_y,\n",
        "        'tetta': angle_tetta,\n",
        "        'phi': angle_phi,\n",
        "        'energy': energy,\n",
        "        'threshold_time': time,\n",
        "    })\n",
        "\n",
        "    return df"
      ]
    },
    {
      "cell_type": "code",
      "execution_count": null,
      "id": "2916028b-0e20-4666-a10d-e93877f2d57b",
      "metadata": {
        "id": "2916028b-0e20-4666-a10d-e93877f2d57b"
      },
      "outputs": [],
      "source": [
        "#Заморозка\n",
        "def set_seed(seed: int = 42) -> None:\n",
        "    np.random.seed(seed)\n",
        "    os.environ[\"PYTHONHASHSEED\"] = str(seed)\n",
        "\n",
        "set_seed(42)\n",
        "random_state = 42"
      ]
    },
    {
      "cell_type": "code",
      "execution_count": null,
      "id": "Jpvh4n81jMGJ",
      "metadata": {
        "colab": {
          "base_uri": "https://localhost:8080/"
        },
        "id": "Jpvh4n81jMGJ",
        "outputId": "6a86408d-43c4-4a17-d6fb-a56c325f38a0"
      },
      "outputs": [
        {
          "name": "stdout",
          "output_type": "stream",
          "text": [
            "Drive already mounted at /content/drive; to attempt to forcibly remount, call drive.mount(\"/content/drive\", force_remount=True).\n"
          ]
        }
      ],
      "source": [
        "from google.colab import drive\n",
        "drive.mount('/content/drive')"
      ]
    },
    {
      "cell_type": "code",
      "execution_count": 19,
      "id": "8461e578-2ad9-414b-955c-85784ec2291e",
      "metadata": {
        "id": "8461e578-2ad9-414b-955c-85784ec2291e"
      },
      "outputs": [],
      "source": [
        "df = read_binarry(\"/content/drive/MyDrive/data.dat\")"
      ]
    },
    {
      "cell_type": "code",
      "execution_count": 21,
      "id": "cc2f0a05-c6a5-4824-b43b-cbfcd8a242ee",
      "metadata": {
        "id": "cc2f0a05-c6a5-4824-b43b-cbfcd8a242ee"
      },
      "outputs": [],
      "source": [
        "new_columns = pd.DataFrame(\n",
        "    df['energy'].tolist(),\n",
        "    columns=[f'energy_{i}' for i in range(36)]\n",
        ")\n",
        "\n",
        "df = pd.concat([df, new_columns], axis=1)"
      ]
    },
    {
      "cell_type": "code",
      "execution_count": 39,
      "id": "f74d0913-038a-4527-ada9-85e5654b8c8b",
      "metadata": {
        "colab": {
          "base_uri": "https://localhost:8080/",
          "height": 547
        },
        "id": "f74d0913-038a-4527-ada9-85e5654b8c8b",
        "outputId": "3c18a76f-acaf-4897-d608-8e1658ab4406"
      },
      "outputs": [
        {
          "ename": "KeyError",
          "evalue": "'threshold_time'",
          "output_type": "error",
          "traceback": [
            "\u001b[0;31m---------------------------------------------------------------------------\u001b[0m",
            "\u001b[0;31mKeyError\u001b[0m                                  Traceback (most recent call last)",
            "\u001b[0;32m/usr/local/lib/python3.11/dist-packages/pandas/core/indexes/base.py\u001b[0m in \u001b[0;36mget_loc\u001b[0;34m(self, key)\u001b[0m\n\u001b[1;32m   3804\u001b[0m         \u001b[0;32mtry\u001b[0m\u001b[0;34m:\u001b[0m\u001b[0;34m\u001b[0m\u001b[0;34m\u001b[0m\u001b[0m\n\u001b[0;32m-> 3805\u001b[0;31m             \u001b[0;32mreturn\u001b[0m \u001b[0mself\u001b[0m\u001b[0;34m.\u001b[0m\u001b[0m_engine\u001b[0m\u001b[0;34m.\u001b[0m\u001b[0mget_loc\u001b[0m\u001b[0;34m(\u001b[0m\u001b[0mcasted_key\u001b[0m\u001b[0;34m)\u001b[0m\u001b[0;34m\u001b[0m\u001b[0;34m\u001b[0m\u001b[0m\n\u001b[0m\u001b[1;32m   3806\u001b[0m         \u001b[0;32mexcept\u001b[0m \u001b[0mKeyError\u001b[0m \u001b[0;32mas\u001b[0m \u001b[0merr\u001b[0m\u001b[0;34m:\u001b[0m\u001b[0;34m\u001b[0m\u001b[0;34m\u001b[0m\u001b[0m\n",
            "\u001b[0;32mindex.pyx\u001b[0m in \u001b[0;36mpandas._libs.index.IndexEngine.get_loc\u001b[0;34m()\u001b[0m\n",
            "\u001b[0;32mindex.pyx\u001b[0m in \u001b[0;36mpandas._libs.index.IndexEngine.get_loc\u001b[0;34m()\u001b[0m\n",
            "\u001b[0;32mpandas/_libs/hashtable_class_helper.pxi\u001b[0m in \u001b[0;36mpandas._libs.hashtable.PyObjectHashTable.get_item\u001b[0;34m()\u001b[0m\n",
            "\u001b[0;32mpandas/_libs/hashtable_class_helper.pxi\u001b[0m in \u001b[0;36mpandas._libs.hashtable.PyObjectHashTable.get_item\u001b[0;34m()\u001b[0m\n",
            "\u001b[0;31mKeyError\u001b[0m: 'threshold_time'",
            "\nThe above exception was the direct cause of the following exception:\n",
            "\u001b[0;31mKeyError\u001b[0m                                  Traceback (most recent call last)",
            "\u001b[0;32m/tmp/ipython-input-39-3726070007.py\u001b[0m in \u001b[0;36m<cell line: 0>\u001b[0;34m()\u001b[0m\n\u001b[1;32m      1\u001b[0m new_columns = pd.DataFrame(\n\u001b[0;32m----> 2\u001b[0;31m     \u001b[0mdf\u001b[0m\u001b[0;34m[\u001b[0m\u001b[0;34m'threshold_time'\u001b[0m\u001b[0;34m]\u001b[0m\u001b[0;34m.\u001b[0m\u001b[0mtolist\u001b[0m\u001b[0;34m(\u001b[0m\u001b[0;34m)\u001b[0m\u001b[0;34m,\u001b[0m\u001b[0;34m\u001b[0m\u001b[0;34m\u001b[0m\u001b[0m\n\u001b[0m\u001b[1;32m      3\u001b[0m     \u001b[0mcolumns\u001b[0m\u001b[0;34m=\u001b[0m\u001b[0;34m[\u001b[0m\u001b[0;34mf'threshold_time_{i}'\u001b[0m \u001b[0;32mfor\u001b[0m \u001b[0mi\u001b[0m \u001b[0;32min\u001b[0m \u001b[0mrange\u001b[0m\u001b[0;34m(\u001b[0m\u001b[0;36m36\u001b[0m\u001b[0;34m)\u001b[0m\u001b[0;34m]\u001b[0m\u001b[0;34m\u001b[0m\u001b[0;34m\u001b[0m\u001b[0m\n\u001b[1;32m      4\u001b[0m )\n\u001b[1;32m      5\u001b[0m \u001b[0;34m\u001b[0m\u001b[0m\n",
            "\u001b[0;32m/usr/local/lib/python3.11/dist-packages/pandas/core/frame.py\u001b[0m in \u001b[0;36m__getitem__\u001b[0;34m(self, key)\u001b[0m\n\u001b[1;32m   4100\u001b[0m             \u001b[0;32mif\u001b[0m \u001b[0mself\u001b[0m\u001b[0;34m.\u001b[0m\u001b[0mcolumns\u001b[0m\u001b[0;34m.\u001b[0m\u001b[0mnlevels\u001b[0m \u001b[0;34m>\u001b[0m \u001b[0;36m1\u001b[0m\u001b[0;34m:\u001b[0m\u001b[0;34m\u001b[0m\u001b[0;34m\u001b[0m\u001b[0m\n\u001b[1;32m   4101\u001b[0m                 \u001b[0;32mreturn\u001b[0m \u001b[0mself\u001b[0m\u001b[0;34m.\u001b[0m\u001b[0m_getitem_multilevel\u001b[0m\u001b[0;34m(\u001b[0m\u001b[0mkey\u001b[0m\u001b[0;34m)\u001b[0m\u001b[0;34m\u001b[0m\u001b[0;34m\u001b[0m\u001b[0m\n\u001b[0;32m-> 4102\u001b[0;31m             \u001b[0mindexer\u001b[0m \u001b[0;34m=\u001b[0m \u001b[0mself\u001b[0m\u001b[0;34m.\u001b[0m\u001b[0mcolumns\u001b[0m\u001b[0;34m.\u001b[0m\u001b[0mget_loc\u001b[0m\u001b[0;34m(\u001b[0m\u001b[0mkey\u001b[0m\u001b[0;34m)\u001b[0m\u001b[0;34m\u001b[0m\u001b[0;34m\u001b[0m\u001b[0m\n\u001b[0m\u001b[1;32m   4103\u001b[0m             \u001b[0;32mif\u001b[0m \u001b[0mis_integer\u001b[0m\u001b[0;34m(\u001b[0m\u001b[0mindexer\u001b[0m\u001b[0;34m)\u001b[0m\u001b[0;34m:\u001b[0m\u001b[0;34m\u001b[0m\u001b[0;34m\u001b[0m\u001b[0m\n\u001b[1;32m   4104\u001b[0m                 \u001b[0mindexer\u001b[0m \u001b[0;34m=\u001b[0m \u001b[0;34m[\u001b[0m\u001b[0mindexer\u001b[0m\u001b[0;34m]\u001b[0m\u001b[0;34m\u001b[0m\u001b[0;34m\u001b[0m\u001b[0m\n",
            "\u001b[0;32m/usr/local/lib/python3.11/dist-packages/pandas/core/indexes/base.py\u001b[0m in \u001b[0;36mget_loc\u001b[0;34m(self, key)\u001b[0m\n\u001b[1;32m   3810\u001b[0m             ):\n\u001b[1;32m   3811\u001b[0m                 \u001b[0;32mraise\u001b[0m \u001b[0mInvalidIndexError\u001b[0m\u001b[0;34m(\u001b[0m\u001b[0mkey\u001b[0m\u001b[0;34m)\u001b[0m\u001b[0;34m\u001b[0m\u001b[0;34m\u001b[0m\u001b[0m\n\u001b[0;32m-> 3812\u001b[0;31m             \u001b[0;32mraise\u001b[0m \u001b[0mKeyError\u001b[0m\u001b[0;34m(\u001b[0m\u001b[0mkey\u001b[0m\u001b[0;34m)\u001b[0m \u001b[0;32mfrom\u001b[0m \u001b[0merr\u001b[0m\u001b[0;34m\u001b[0m\u001b[0;34m\u001b[0m\u001b[0m\n\u001b[0m\u001b[1;32m   3813\u001b[0m         \u001b[0;32mexcept\u001b[0m \u001b[0mTypeError\u001b[0m\u001b[0;34m:\u001b[0m\u001b[0;34m\u001b[0m\u001b[0;34m\u001b[0m\u001b[0m\n\u001b[1;32m   3814\u001b[0m             \u001b[0;31m# If we have a listlike key, _check_indexing_error will raise\u001b[0m\u001b[0;34m\u001b[0m\u001b[0;34m\u001b[0m\u001b[0m\n",
            "\u001b[0;31mKeyError\u001b[0m: 'threshold_time'"
          ]
        }
      ],
      "source": [
        "new_columns = pd.DataFrame(\n",
        "    df['threshold_time'].tolist(),\n",
        "    columns=[f'threshold_time_{i}' for i in range(36)]\n",
        ")\n",
        "\n",
        "df = pd.concat([df, new_columns], axis=1)"
      ]
    },
    {
      "cell_type": "code",
      "execution_count": null,
      "id": "f5b12664-f451-46d4-8af4-68ec4c16812d",
      "metadata": {
        "id": "f5b12664-f451-46d4-8af4-68ec4c16812d"
      },
      "outputs": [],
      "source": [
        "df.drop(columns=[\"energy\", \"threshold_time\"], inplace=True)"
      ]
    },
    {
      "cell_type": "code",
      "execution_count": 40,
      "id": "3e74cd54-5648-43cf-9626-b3043aee4d1d",
      "metadata": {
        "id": "3e74cd54-5648-43cf-9626-b3043aee4d1d"
      },
      "outputs": [],
      "source": [
        "X = df.drop(columns=[\"power\", \"age\", \"x\", \"y\", \"tetta\", \"phi\"])"
      ]
    },
    {
      "cell_type": "code",
      "execution_count": 41,
      "id": "5kniZkI5QPjR",
      "metadata": {
        "id": "5kniZkI5QPjR"
      },
      "outputs": [],
      "source": [
        "import math\n",
        "X = df.drop(columns=[\"power\", \"age\", \"x\", \"y\", \"tetta\", \"phi\"])\n",
        "y = (df['tetta']*math.pi/180).agg('cos') #pd.concat([prep1,prep2], axis=1)"
      ]
    },
    {
      "cell_type": "code",
      "execution_count": 43,
      "id": "853c79ee-dace-42a0-8d45-f8ad2d376435",
      "metadata": {
        "id": "853c79ee-dace-42a0-8d45-f8ad2d376435"
      },
      "outputs": [],
      "source": [
        "import lightgbm as lgb\n",
        "from sklearn.model_selection import train_test_split\n",
        "from sklearn.metrics import mean_squared_error, mean_absolute_error, r2_score\n",
        "from sklearn.datasets import fetch_california_housing"
      ]
    },
    {
      "cell_type": "code",
      "execution_count": 44,
      "id": "d5906f84-07dd-4ee6-bd94-416756a9de9b",
      "metadata": {
        "id": "d5906f84-07dd-4ee6-bd94-416756a9de9b"
      },
      "outputs": [],
      "source": [
        "X_train, X_test, y_train, y_test = train_test_split(X, y, test_size=0.2, random_state=random_state)"
      ]
    },
    {
      "cell_type": "code",
      "execution_count": 45,
      "id": "6b1b4168-f580-44aa-917e-9c4207c29426",
      "metadata": {
        "id": "6b1b4168-f580-44aa-917e-9c4207c29426"
      },
      "outputs": [],
      "source": [
        "train_data = lgb.Dataset(X_train, label=y_train)\n",
        "test_data = lgb.Dataset(X_test, label=y_test, reference=train_data)"
      ]
    },
    {
      "cell_type": "code",
      "execution_count": 46,
      "id": "1c2302f5-b255-4580-8109-c24aae41975b",
      "metadata": {
        "id": "1c2302f5-b255-4580-8109-c24aae41975b"
      },
      "outputs": [],
      "source": [
        "params = {\n",
        "    'objective': 'regression',       # Тип задачи - регрессия\n",
        "    'metric': 'rmse',                # Метрика качества (Root Mean Squared Error)\n",
        "    'boosting_type': 'gbdt',         # Алгоритм градиентного бустинга\n",
        "    'num_leaves': 31,                # Максимальное количество листьев в дереве\n",
        "    'learning_rate': 0.05,           # Скорость обучения\n",
        "    'feature_fraction': 0.9,         # Доля случайно выбираемых признаков на каждой итерации\n",
        "    'bagging_fraction': 0.8,         # Доля данных для бутстрепа\n",
        "    'bagging_freq': 6,               # Частота бэггинга\n",
        "    'verbose': 1,                    # Отключение выводов\n",
        "    'n_jobs': 1,                    # Использовать все ядра процессора\n",
        "    'random_state': 42               # Для воспроизводимости\n",
        "}"
      ]
    },
    {
      "cell_type": "code",
      "execution_count": 47,
      "id": "318f78d1-9338-49d5-a375-4718fdb11f63",
      "metadata": {
        "colab": {
          "base_uri": "https://localhost:8080/"
        },
        "id": "318f78d1-9338-49d5-a375-4718fdb11f63",
        "outputId": "a97e72bb-8f61-4f2b-b895-dda8b10c747f"
      },
      "outputs": [
        {
          "name": "stdout",
          "output_type": "stream",
          "text": [
            "[LightGBM] [Info] Auto-choosing col-wise multi-threading, the overhead of testing was 0.085963 seconds.\n",
            "You can set `force_col_wise=true` to remove the overhead.\n",
            "[LightGBM] [Info] Total Bins 18360\n",
            "[LightGBM] [Info] Number of data points in the train set: 80000, number of used features: 72\n",
            "[LightGBM] [Info] Start training from score 0.821163\n"
          ]
        }
      ],
      "source": [
        "model = lgb.train(\n",
        "    params,\n",
        "    train_data,\n",
        "    num_boost_round=100,            # Максимальное количество деревьев\n",
        "    valid_sets=[train_data, test_data],\n",
        "    valid_names=['train', 'valid']\n",
        ")"
      ]
    },
    {
      "cell_type": "code",
      "execution_count": null,
      "id": "ecf18228-8303-4653-9491-4290510d63a1",
      "metadata": {
        "id": "ecf18228-8303-4653-9491-4290510d63a1"
      },
      "outputs": [],
      "source": [
        "y_predscos = model.predict(X_test, num_iteration=model.best_iteration)"
      ]
    },
    {
      "cell_type": "code",
      "execution_count": null,
      "id": "5xgcF6fTVGhi",
      "metadata": {
        "colab": {
          "base_uri": "https://localhost:8080/"
        },
        "id": "5xgcF6fTVGhi",
        "outputId": "ef5f9b69-da9b-43d7-f966-ee9f49b83f6c"
      },
      "outputs": [
        {
          "data": {
            "text/plain": [
              "array([0.90500275, 0.86628673, 0.7532067 , ..., 0.85325918, 0.86735008,\n",
              "       0.68815764])"
            ]
          },
          "execution_count": 49,
          "metadata": {},
          "output_type": "execute_result"
        }
      ],
      "source": [
        "y_predscos"
      ]
    },
    {
      "cell_type": "code",
      "execution_count": null,
      "id": "d5abc373-1a2c-4e9b-ac39-4e49a82255fb",
      "metadata": {
        "colab": {
          "base_uri": "https://localhost:8080/"
        },
        "id": "d5abc373-1a2c-4e9b-ac39-4e49a82255fb",
        "outputId": "9f327a72-ab45-4569-abd8-c37435019c13"
      },
      "outputs": [
        {
          "name": "stdout",
          "output_type": "stream",
          "text": [
            "RMSE: 0.0668\n",
            "MAE: 0.0533\n",
            "R²: 0.5818\n"
          ]
        }
      ],
      "source": [
        "def evaluate_regression(y_true, y_pred):\n",
        "    rmse = np.sqrt(mean_squared_error(y_true, y_pred))\n",
        "    mae = mean_absolute_error(y_true, y_pred)\n",
        "    r2 = r2_score(y_true, y_pred)\n",
        "\n",
        "    print(f\"RMSE: {rmse:.4f}\")\n",
        "    print(f\"MAE: {mae:.4f}\")\n",
        "    print(f\"R²: {r2:.4f}\")\n",
        "    return {'rmse': rmse, 'mae': mae, 'r2': r2}\n",
        "\n",
        "metrics = evaluate_regression(y_test, y_predscos)"
      ]
    },
    {
      "cell_type": "code",
      "execution_count": null,
      "id": "XKaNgyNTjAAD",
      "metadata": {
        "colab": {
          "base_uri": "https://localhost:8080/"
        },
        "id": "XKaNgyNTjAAD",
        "outputId": "ab6eaf4f-9ea4-47c3-b4ae-15855fe20cc6"
      },
      "outputs": [
        {
          "name": "stderr",
          "output_type": "stream",
          "text": [
            "/tmp/ipython-input-157-1578889871.py:1: RuntimeWarning: invalid value encountered in arccos\n",
            "  np.degrees(np.arccos(model.predict(X_test, num_iteration=model.best_iteration)))\n"
          ]
        },
        {
          "data": {
            "text/plain": [
              "array([ 96.7056368 , 109.46072153, 119.86466162, ...,  99.78845538,\n",
              "       102.14111386,  89.62261295])"
            ]
          },
          "execution_count": 157,
          "metadata": {},
          "output_type": "execute_result"
        }
      ],
      "source": [
        "np.degrees(np.arccos(model.predict(X_test, num_iteration=model.best_iteration)))"
      ]
    }
  ],
  "metadata": {
    "colab": {
      "provenance": []
    },
    "kernelspec": {
      "display_name": "Python 3 (ipykernel)",
      "language": "python",
      "name": "python3"
    },
    "language_info": {
      "codemirror_mode": {
        "name": "ipython",
        "version": 3
      },
      "file_extension": ".py",
      "mimetype": "text/x-python",
      "name": "python",
      "nbconvert_exporter": "python",
      "pygments_lexer": "ipython3",
      "version": "3.10.11"
    }
  },
  "nbformat": 4,
  "nbformat_minor": 5
}
